{
 "cells": [
  {
   "cell_type": "code",
   "execution_count": 2,
   "metadata": {},
   "outputs": [],
   "source": [
    "import pandas as pd\n",
    "import numpy as np"
   ]
  },
  {
   "cell_type": "code",
   "execution_count": 20,
   "metadata": {},
   "outputs": [],
   "source": [
    "monday_subs = pd.read_csv(\"subscribed_members_export_0b58976ce0_anonymous.csv\", sep = \";\")"
   ]
  },
  {
   "cell_type": "code",
   "execution_count": 23,
   "metadata": {},
   "outputs": [],
   "source": [
    "deep_subs = pd.read_csv(\"subscribed_members.csv\")"
   ]
  },
  {
   "cell_type": "code",
   "execution_count": 24,
   "metadata": {},
   "outputs": [
    {
     "data": {
      "text/html": [
       "<div>\n",
       "<style scoped>\n",
       "    .dataframe tbody tr th:only-of-type {\n",
       "        vertical-align: middle;\n",
       "    }\n",
       "\n",
       "    .dataframe tbody tr th {\n",
       "        vertical-align: top;\n",
       "    }\n",
       "\n",
       "    .dataframe thead th {\n",
       "        text-align: right;\n",
       "    }\n",
       "</style>\n",
       "<table border=\"1\" class=\"dataframe\">\n",
       "  <thead>\n",
       "    <tr style=\"text-align: right;\">\n",
       "      <th></th>\n",
       "      <th>MEMBER_RATING</th>\n",
       "      <th>OPTIN_TIME</th>\n",
       "      <th>OPTIN_IP</th>\n",
       "      <th>CONFIRM_TIME</th>\n",
       "      <th>CONFIRM_IP</th>\n",
       "      <th>LATITUDE</th>\n",
       "      <th>LONGITUDE</th>\n",
       "      <th>GMTOFF</th>\n",
       "      <th>DSTOFF</th>\n",
       "      <th>TIMEZONE</th>\n",
       "      <th>CC</th>\n",
       "      <th>REGION</th>\n",
       "      <th>LAST_CHANGED</th>\n",
       "      <th>LEID</th>\n",
       "      <th>EUID</th>\n",
       "      <th>NOTES</th>\n",
       "      <th>TAGS</th>\n",
       "    </tr>\n",
       "  </thead>\n",
       "  <tbody>\n",
       "    <tr>\n",
       "      <th>0</th>\n",
       "      <td>4</td>\n",
       "      <td>2012-06-29 08:55:21</td>\n",
       "      <td>NaN</td>\n",
       "      <td>2019-03-24 19:33:45</td>\n",
       "      <td>NaN</td>\n",
       "      <td>47.6135000</td>\n",
       "      <td>'-122.2970000</td>\n",
       "      <td>NaN</td>\n",
       "      <td>NaN</td>\n",
       "      <td>206/564</td>\n",
       "      <td>us</td>\n",
       "      <td>wa</td>\n",
       "      <td>2019-03-24 19:33:45</td>\n",
       "      <td>75892635</td>\n",
       "      <td>549d9ac0d4</td>\n",
       "      <td>NaN</td>\n",
       "      <td>NaN</td>\n",
       "    </tr>\n",
       "    <tr>\n",
       "      <th>1</th>\n",
       "      <td>2</td>\n",
       "      <td>2015-10-26 14:09:53</td>\n",
       "      <td>NaN</td>\n",
       "      <td>2019-03-24 19:33:48</td>\n",
       "      <td>NaN</td>\n",
       "      <td>43.9426000</td>\n",
       "      <td>4.8171300</td>\n",
       "      <td>NaN</td>\n",
       "      <td>NaN</td>\n",
       "      <td>NaN</td>\n",
       "      <td>fr</td>\n",
       "      <td>pac</td>\n",
       "      <td>2019-03-24 19:33:48</td>\n",
       "      <td>75896671</td>\n",
       "      <td>c394a85099</td>\n",
       "      <td>NaN</td>\n",
       "      <td>NaN</td>\n",
       "    </tr>\n",
       "    <tr>\n",
       "      <th>2</th>\n",
       "      <td>5</td>\n",
       "      <td>2017-08-22 14:32:35</td>\n",
       "      <td>NaN</td>\n",
       "      <td>2019-03-24 19:33:37</td>\n",
       "      <td>NaN</td>\n",
       "      <td>40.7512000</td>\n",
       "      <td>'-73.9721000</td>\n",
       "      <td>NaN</td>\n",
       "      <td>NaN</td>\n",
       "      <td>212/332/646/917</td>\n",
       "      <td>us</td>\n",
       "      <td>ny</td>\n",
       "      <td>2019-03-24 19:33:37</td>\n",
       "      <td>75881095</td>\n",
       "      <td>a0268bf545</td>\n",
       "      <td>NaN</td>\n",
       "      <td>NaN</td>\n",
       "    </tr>\n",
       "    <tr>\n",
       "      <th>3</th>\n",
       "      <td>2</td>\n",
       "      <td>2018-03-19 09:46:14</td>\n",
       "      <td>NaN</td>\n",
       "      <td>2019-03-24 19:33:46</td>\n",
       "      <td>NaN</td>\n",
       "      <td>48.8302000</td>\n",
       "      <td>2.4461700</td>\n",
       "      <td>NaN</td>\n",
       "      <td>NaN</td>\n",
       "      <td>NaN</td>\n",
       "      <td>fr</td>\n",
       "      <td>idf</td>\n",
       "      <td>2019-03-24 19:33:46</td>\n",
       "      <td>75893031</td>\n",
       "      <td>32e3d82693</td>\n",
       "      <td>NaN</td>\n",
       "      <td>NaN</td>\n",
       "    </tr>\n",
       "    <tr>\n",
       "      <th>4</th>\n",
       "      <td>4</td>\n",
       "      <td>2019-10-15 07:11:27</td>\n",
       "      <td>NaN</td>\n",
       "      <td>2019-10-15 07:11:27</td>\n",
       "      <td>125.63.68.125</td>\n",
       "      <td>28.6037000</td>\n",
       "      <td>77.3044000</td>\n",
       "      <td>NaN</td>\n",
       "      <td>NaN</td>\n",
       "      <td>NaN</td>\n",
       "      <td>in</td>\n",
       "      <td>dl</td>\n",
       "      <td>2019-10-15 07:11:27</td>\n",
       "      <td>93869331</td>\n",
       "      <td>0f5b9df37c</td>\n",
       "      <td>NaN</td>\n",
       "      <td>NaN</td>\n",
       "    </tr>\n",
       "    <tr>\n",
       "      <th>...</th>\n",
       "      <td>...</td>\n",
       "      <td>...</td>\n",
       "      <td>...</td>\n",
       "      <td>...</td>\n",
       "      <td>...</td>\n",
       "      <td>...</td>\n",
       "      <td>...</td>\n",
       "      <td>...</td>\n",
       "      <td>...</td>\n",
       "      <td>...</td>\n",
       "      <td>...</td>\n",
       "      <td>...</td>\n",
       "      <td>...</td>\n",
       "      <td>...</td>\n",
       "      <td>...</td>\n",
       "      <td>...</td>\n",
       "      <td>...</td>\n",
       "    </tr>\n",
       "    <tr>\n",
       "      <th>12357</th>\n",
       "      <td>5</td>\n",
       "      <td>2015-09-18 19:19:07</td>\n",
       "      <td>NaN</td>\n",
       "      <td>2019-03-24 19:33:44</td>\n",
       "      <td>NaN</td>\n",
       "      <td>51.5114000</td>\n",
       "      <td>5.5056100</td>\n",
       "      <td>NaN</td>\n",
       "      <td>NaN</td>\n",
       "      <td>NaN</td>\n",
       "      <td>nl</td>\n",
       "      <td>nb</td>\n",
       "      <td>2019-03-24 19:33:44</td>\n",
       "      <td>75890199</td>\n",
       "      <td>89def0af4b</td>\n",
       "      <td>NaN</td>\n",
       "      <td>NaN</td>\n",
       "    </tr>\n",
       "    <tr>\n",
       "      <th>12358</th>\n",
       "      <td>5</td>\n",
       "      <td>2016-12-12 13:24:12</td>\n",
       "      <td>NaN</td>\n",
       "      <td>2019-03-24 19:33:31</td>\n",
       "      <td>NaN</td>\n",
       "      <td>43.3001000</td>\n",
       "      <td>5.3828100</td>\n",
       "      <td>NaN</td>\n",
       "      <td>NaN</td>\n",
       "      <td>NaN</td>\n",
       "      <td>fr</td>\n",
       "      <td>pac</td>\n",
       "      <td>2019-03-24 19:33:31</td>\n",
       "      <td>75872791</td>\n",
       "      <td>0582c04e4f</td>\n",
       "      <td>NaN</td>\n",
       "      <td>NaN</td>\n",
       "    </tr>\n",
       "    <tr>\n",
       "      <th>12359</th>\n",
       "      <td>2</td>\n",
       "      <td>2019-02-08 09:42:54</td>\n",
       "      <td>NaN</td>\n",
       "      <td>2019-03-24 19:33:59</td>\n",
       "      <td>NaN</td>\n",
       "      <td>44.1366000</td>\n",
       "      <td>4.8050100</td>\n",
       "      <td>NaN</td>\n",
       "      <td>NaN</td>\n",
       "      <td>NaN</td>\n",
       "      <td>fr</td>\n",
       "      <td>pac</td>\n",
       "      <td>2019-03-24 19:33:59</td>\n",
       "      <td>75910831</td>\n",
       "      <td>7E+13</td>\n",
       "      <td>NaN</td>\n",
       "      <td>NaN</td>\n",
       "    </tr>\n",
       "    <tr>\n",
       "      <th>12360</th>\n",
       "      <td>2</td>\n",
       "      <td>2015-12-15 22:03:03</td>\n",
       "      <td>NaN</td>\n",
       "      <td>2019-03-24 19:33:51</td>\n",
       "      <td>NaN</td>\n",
       "      <td>NaN</td>\n",
       "      <td>NaN</td>\n",
       "      <td>NaN</td>\n",
       "      <td>NaN</td>\n",
       "      <td>NaN</td>\n",
       "      <td>NaN</td>\n",
       "      <td>NaN</td>\n",
       "      <td>2019-03-24 19:33:51</td>\n",
       "      <td>75900663</td>\n",
       "      <td>ee2d6422f6</td>\n",
       "      <td>NaN</td>\n",
       "      <td>NaN</td>\n",
       "    </tr>\n",
       "    <tr>\n",
       "      <th>12361</th>\n",
       "      <td>2</td>\n",
       "      <td>2014-06-19 03:44:32</td>\n",
       "      <td>NaN</td>\n",
       "      <td>2019-03-24 19:33:54</td>\n",
       "      <td>NaN</td>\n",
       "      <td>NaN</td>\n",
       "      <td>NaN</td>\n",
       "      <td>NaN</td>\n",
       "      <td>NaN</td>\n",
       "      <td>NaN</td>\n",
       "      <td>NaN</td>\n",
       "      <td>NaN</td>\n",
       "      <td>2019-03-24 19:33:54</td>\n",
       "      <td>75904663</td>\n",
       "      <td>0d5d0db88b</td>\n",
       "      <td>NaN</td>\n",
       "      <td>NaN</td>\n",
       "    </tr>\n",
       "  </tbody>\n",
       "</table>\n",
       "<p>12362 rows × 17 columns</p>\n",
       "</div>"
      ],
      "text/plain": [
       "       MEMBER_RATING           OPTIN_TIME  OPTIN_IP         CONFIRM_TIME  \\\n",
       "0                  4  2012-06-29 08:55:21       NaN  2019-03-24 19:33:45   \n",
       "1                  2  2015-10-26 14:09:53       NaN  2019-03-24 19:33:48   \n",
       "2                  5  2017-08-22 14:32:35       NaN  2019-03-24 19:33:37   \n",
       "3                  2  2018-03-19 09:46:14       NaN  2019-03-24 19:33:46   \n",
       "4                  4  2019-10-15 07:11:27       NaN  2019-10-15 07:11:27   \n",
       "...              ...                  ...       ...                  ...   \n",
       "12357              5  2015-09-18 19:19:07       NaN  2019-03-24 19:33:44   \n",
       "12358              5  2016-12-12 13:24:12       NaN  2019-03-24 19:33:31   \n",
       "12359              2  2019-02-08 09:42:54       NaN  2019-03-24 19:33:59   \n",
       "12360              2  2015-12-15 22:03:03       NaN  2019-03-24 19:33:51   \n",
       "12361              2  2014-06-19 03:44:32       NaN  2019-03-24 19:33:54   \n",
       "\n",
       "          CONFIRM_IP    LATITUDE      LONGITUDE GMTOFF DSTOFF  \\\n",
       "0                NaN  47.6135000  '-122.2970000    NaN    NaN   \n",
       "1                NaN  43.9426000      4.8171300    NaN    NaN   \n",
       "2                NaN  40.7512000   '-73.9721000    NaN    NaN   \n",
       "3                NaN  48.8302000      2.4461700    NaN    NaN   \n",
       "4      125.63.68.125  28.6037000     77.3044000    NaN    NaN   \n",
       "...              ...         ...            ...    ...    ...   \n",
       "12357            NaN  51.5114000      5.5056100    NaN    NaN   \n",
       "12358            NaN  43.3001000      5.3828100    NaN    NaN   \n",
       "12359            NaN  44.1366000      4.8050100    NaN    NaN   \n",
       "12360            NaN         NaN            NaN    NaN    NaN   \n",
       "12361            NaN         NaN            NaN    NaN    NaN   \n",
       "\n",
       "              TIMEZONE   CC REGION         LAST_CHANGED      LEID        EUID  \\\n",
       "0              206/564   us     wa  2019-03-24 19:33:45  75892635  549d9ac0d4   \n",
       "1                  NaN   fr    pac  2019-03-24 19:33:48  75896671  c394a85099   \n",
       "2      212/332/646/917   us     ny  2019-03-24 19:33:37  75881095  a0268bf545   \n",
       "3                  NaN   fr    idf  2019-03-24 19:33:46  75893031  32e3d82693   \n",
       "4                  NaN   in     dl  2019-10-15 07:11:27  93869331  0f5b9df37c   \n",
       "...                ...  ...    ...                  ...       ...         ...   \n",
       "12357              NaN   nl     nb  2019-03-24 19:33:44  75890199  89def0af4b   \n",
       "12358              NaN   fr    pac  2019-03-24 19:33:31  75872791  0582c04e4f   \n",
       "12359              NaN   fr    pac  2019-03-24 19:33:59  75910831       7E+13   \n",
       "12360              NaN  NaN    NaN  2019-03-24 19:33:51  75900663  ee2d6422f6   \n",
       "12361              NaN  NaN    NaN  2019-03-24 19:33:54  75904663  0d5d0db88b   \n",
       "\n",
       "       NOTES  TAGS  \n",
       "0        NaN   NaN  \n",
       "1        NaN   NaN  \n",
       "2        NaN   NaN  \n",
       "3        NaN   NaN  \n",
       "4        NaN   NaN  \n",
       "...      ...   ...  \n",
       "12357    NaN   NaN  \n",
       "12358    NaN   NaN  \n",
       "12359    NaN   NaN  \n",
       "12360    NaN   NaN  \n",
       "12361    NaN   NaN  \n",
       "\n",
       "[12362 rows x 17 columns]"
      ]
     },
     "execution_count": 24,
     "metadata": {},
     "output_type": "execute_result"
    }
   ],
   "source": [
    "monday_subs"
   ]
  },
  {
   "cell_type": "code",
   "execution_count": 100,
   "metadata": {},
   "outputs": [
    {
     "data": {
      "text/plain": [
       "3.9103061664510563"
      ]
     },
     "execution_count": 100,
     "metadata": {},
     "output_type": "execute_result"
    }
   ],
   "source": [
    "deep_subs[\"MEMBER_RATING\"].mean()"
   ]
  },
  {
   "cell_type": "code",
   "execution_count": 91,
   "metadata": {},
   "outputs": [],
   "source": [
    "monday_user = monday_subs[[\"LEID\",\"EUID\",\"MEMBER_RATING\"]]\n",
    "deep_user = deep_subs[[\"LEID\",\"EUID\",\"MEMBER_RATING\"]]"
   ]
  },
  {
   "cell_type": "code",
   "execution_count": 44,
   "metadata": {},
   "outputs": [
    {
     "data": {
      "text/plain": [
       "∞E+00         9\n",
       "69f342f458    1\n",
       "898fed516d    1\n",
       "6eacd397c2    1\n",
       "b3249071a6    1\n",
       "             ..\n",
       "e4940c7263    1\n",
       "94128715a6    1\n",
       "1e30379bd0    1\n",
       "d21bf9468e    1\n",
       "4260bd93c3    1\n",
       "Name: EUID, Length: 2311, dtype: int64"
      ]
     },
     "execution_count": 44,
     "metadata": {},
     "output_type": "execute_result"
    }
   ],
   "source": [
    "deep_user.EUID.value_counts()"
   ]
  },
  {
   "cell_type": "code",
   "execution_count": 96,
   "metadata": {},
   "outputs": [
    {
     "data": {
      "text/html": [
       "<div>\n",
       "<style scoped>\n",
       "    .dataframe tbody tr th:only-of-type {\n",
       "        vertical-align: middle;\n",
       "    }\n",
       "\n",
       "    .dataframe tbody tr th {\n",
       "        vertical-align: top;\n",
       "    }\n",
       "\n",
       "    .dataframe thead th {\n",
       "        text-align: right;\n",
       "    }\n",
       "</style>\n",
       "<table border=\"1\" class=\"dataframe\">\n",
       "  <thead>\n",
       "    <tr style=\"text-align: right;\">\n",
       "      <th></th>\n",
       "      <th>LEID_x</th>\n",
       "      <th>EUID</th>\n",
       "      <th>MEMBER_RATING_x</th>\n",
       "      <th>LEID_y</th>\n",
       "      <th>MEMBER_RATING_y</th>\n",
       "    </tr>\n",
       "  </thead>\n",
       "  <tbody>\n",
       "    <tr>\n",
       "      <th>0</th>\n",
       "      <td>75886451</td>\n",
       "      <td>c156e54339</td>\n",
       "      <td>5</td>\n",
       "      <td>88833751</td>\n",
       "      <td>3.0</td>\n",
       "    </tr>\n",
       "    <tr>\n",
       "      <th>1</th>\n",
       "      <td>75884759</td>\n",
       "      <td>2743d915cb</td>\n",
       "      <td>5</td>\n",
       "      <td>88834851</td>\n",
       "      <td>4.0</td>\n",
       "    </tr>\n",
       "    <tr>\n",
       "      <th>2</th>\n",
       "      <td>75877859</td>\n",
       "      <td>1e30379bd0</td>\n",
       "      <td>5</td>\n",
       "      <td>88834219</td>\n",
       "      <td>5.0</td>\n",
       "    </tr>\n",
       "    <tr>\n",
       "      <th>3</th>\n",
       "      <td>75908223</td>\n",
       "      <td>94c1515050</td>\n",
       "      <td>5</td>\n",
       "      <td>88795507</td>\n",
       "      <td>4.0</td>\n",
       "    </tr>\n",
       "    <tr>\n",
       "      <th>4</th>\n",
       "      <td>75907215</td>\n",
       "      <td>187055cead</td>\n",
       "      <td>5</td>\n",
       "      <td>88793843</td>\n",
       "      <td>5.0</td>\n",
       "    </tr>\n",
       "    <tr>\n",
       "      <th>...</th>\n",
       "      <td>...</td>\n",
       "      <td>...</td>\n",
       "      <td>...</td>\n",
       "      <td>...</td>\n",
       "      <td>...</td>\n",
       "    </tr>\n",
       "    <tr>\n",
       "      <th>1812</th>\n",
       "      <td>75884863</td>\n",
       "      <td>86ff70135f</td>\n",
       "      <td>5</td>\n",
       "      <td>88834883</td>\n",
       "      <td>4.0</td>\n",
       "    </tr>\n",
       "    <tr>\n",
       "      <th>1813</th>\n",
       "      <td>75867411</td>\n",
       "      <td>7ea96893ed</td>\n",
       "      <td>5</td>\n",
       "      <td>88896799</td>\n",
       "      <td>5.0</td>\n",
       "    </tr>\n",
       "    <tr>\n",
       "      <th>1814</th>\n",
       "      <td>75896947</td>\n",
       "      <td>42a659e055</td>\n",
       "      <td>5</td>\n",
       "      <td>88795691</td>\n",
       "      <td>5.0</td>\n",
       "    </tr>\n",
       "    <tr>\n",
       "      <th>1815</th>\n",
       "      <td>75881059</td>\n",
       "      <td>175459cd24</td>\n",
       "      <td>5</td>\n",
       "      <td>88815147</td>\n",
       "      <td>5.0</td>\n",
       "    </tr>\n",
       "    <tr>\n",
       "      <th>1816</th>\n",
       "      <td>93866635</td>\n",
       "      <td>3a45fc4a68</td>\n",
       "      <td>5</td>\n",
       "      <td>88802123</td>\n",
       "      <td>4.0</td>\n",
       "    </tr>\n",
       "  </tbody>\n",
       "</table>\n",
       "<p>1817 rows × 5 columns</p>\n",
       "</div>"
      ],
      "text/plain": [
       "        LEID_x        EUID  MEMBER_RATING_x    LEID_y  MEMBER_RATING_y\n",
       "0     75886451  c156e54339                5  88833751              3.0\n",
       "1     75884759  2743d915cb                5  88834851              4.0\n",
       "2     75877859  1e30379bd0                5  88834219              5.0\n",
       "3     75908223  94c1515050                5  88795507              4.0\n",
       "4     75907215  187055cead                5  88793843              5.0\n",
       "...        ...         ...              ...       ...              ...\n",
       "1812  75884863  86ff70135f                5  88834883              4.0\n",
       "1813  75867411  7ea96893ed                5  88896799              5.0\n",
       "1814  75896947  42a659e055                5  88795691              5.0\n",
       "1815  75881059  175459cd24                5  88815147              5.0\n",
       "1816  93866635  3a45fc4a68                5  88802123              4.0\n",
       "\n",
       "[1817 rows x 5 columns]"
      ]
     },
     "execution_count": 96,
     "metadata": {},
     "output_type": "execute_result"
    }
   ],
   "source": [
    "df = pd.merge(monday_user,deep_user, on = \"EUID\")\n",
    "df"
   ]
  },
  {
   "cell_type": "code",
   "execution_count": null,
   "metadata": {},
   "outputs": [],
   "source": []
  },
  {
   "cell_type": "code",
   "execution_count": 101,
   "metadata": {
    "scrolled": true
   },
   "outputs": [
    {
     "data": {
      "text/plain": [
       "4.083654375343974"
      ]
     },
     "execution_count": 101,
     "metadata": {},
     "output_type": "execute_result"
    }
   ],
   "source": [
    "df[\"MEMBER_RATING_y\"].mean()"
   ]
  },
  {
   "cell_type": "code",
   "execution_count": 102,
   "metadata": {},
   "outputs": [
    {
     "data": {
      "text/plain": [
       "4.199779856906989"
      ]
     },
     "execution_count": 102,
     "metadata": {},
     "output_type": "execute_result"
    }
   ],
   "source": [
    "df[\"MEMBER_RATING_x\"].mean()"
   ]
  },
  {
   "cell_type": "code",
   "execution_count": 57,
   "metadata": {},
   "outputs": [
    {
     "data": {
      "text/plain": [
       "0.7804982817869416"
      ]
     },
     "execution_count": 57,
     "metadata": {},
     "output_type": "execute_result"
    }
   ],
   "source": [
    "a=len(df)/len(deep_user.EUID)\n",
    "b=1-a\n",
    "a"
   ]
  },
  {
   "cell_type": "code",
   "execution_count": 60,
   "metadata": {},
   "outputs": [],
   "source": [
    "import matplotlib.pyplot as plt"
   ]
  },
  {
   "cell_type": "code",
   "execution_count": 90,
   "metadata": {},
   "outputs": [
    {
     "name": "stderr",
     "output_type": "stream",
     "text": [
      "C:\\Users\\Charles\\Anaconda3\\lib\\site-packages\\ipykernel_launcher.py:6: UserWarning: Tight layout not applied. The bottom and top margins cannot be made large enough to accommodate all axes decorations. \n",
      "  \n"
     ]
    },
    {
     "data": {
      "image/png": "[encoded data removed]",
      "text/plain": [
       "<Figure size 432x288 with 1 Axes>"
      ]
     },
     "metadata": {},
     "output_type": "display_data"
    }
   ],
   "source": [
    "fig, ax=plt.subplots()\n",
    "ax.set_title(\"Part des utilisateurs abonnés aux deux NewsLetters\", fontsize=18)\n",
    "plt.pie([a,b], explode = [0,.1], autopct='%.f', radius=3)\n",
    "\n",
    "# plt.title(\"Abonnés au Monday Note\")\n",
    "plt.tight_layout()\n",
    "# plt.savefig(\"Abonnés MondayNote\")\n",
    "plt.show()"
   ]
  },
  {
   "cell_type": "code",
   "execution_count": null,
   "metadata": {},
   "outputs": [],
   "source": []
  },
  {
   "cell_type": "code",
   "execution_count": null,
   "metadata": {},
   "outputs": [],
   "source": []
  },
  {
   "cell_type": "code",
   "execution_count": 58,
   "metadata": {},
   "outputs": [
    {
     "ename": "ValueError",
     "evalue": "If using all scalar values, you must pass an index",
     "output_type": "error",
     "traceback": [
      "\u001b[1;31m---------------------------------------------------------------------------\u001b[0m",
      "\u001b[1;31mValueError\u001b[0m                                Traceback (most recent call last)",
      "\u001b[1;32m<ipython-input-58-e7356e58c7ef>\u001b[0m in \u001b[0;36m<module>\u001b[1;34m\u001b[0m\n\u001b[0;32m      1\u001b[0m \u001b[0md\u001b[0m \u001b[1;33m=\u001b[0m \u001b[1;33m{\u001b[0m\u001b[1;34m'Monday Subscribers'\u001b[0m\u001b[1;33m:\u001b[0m \u001b[0ma\u001b[0m\u001b[1;33m,\u001b[0m \u001b[1;34m'Others'\u001b[0m\u001b[1;33m:\u001b[0m \u001b[0mb\u001b[0m\u001b[1;33m}\u001b[0m\u001b[1;33m\u001b[0m\u001b[1;33m\u001b[0m\u001b[0m\n\u001b[1;32m----> 2\u001b[1;33m \u001b[0mintersect\u001b[0m \u001b[1;33m=\u001b[0m \u001b[0mpd\u001b[0m\u001b[1;33m.\u001b[0m\u001b[0mDataFrame\u001b[0m\u001b[1;33m(\u001b[0m\u001b[0mdata\u001b[0m\u001b[1;33m=\u001b[0m\u001b[0md\u001b[0m\u001b[1;33m)\u001b[0m\u001b[1;33m\u001b[0m\u001b[1;33m\u001b[0m\u001b[0m\n\u001b[0m",
      "\u001b[1;32m~\\Anaconda3\\lib\\site-packages\\pandas\\core\\frame.py\u001b[0m in \u001b[0;36m__init__\u001b[1;34m(self, data, index, columns, dtype, copy)\u001b[0m\n\u001b[0;32m    409\u001b[0m             )\n\u001b[0;32m    410\u001b[0m         \u001b[1;32melif\u001b[0m \u001b[0misinstance\u001b[0m\u001b[1;33m(\u001b[0m\u001b[0mdata\u001b[0m\u001b[1;33m,\u001b[0m \u001b[0mdict\u001b[0m\u001b[1;33m)\u001b[0m\u001b[1;33m:\u001b[0m\u001b[1;33m\u001b[0m\u001b[1;33m\u001b[0m\u001b[0m\n\u001b[1;32m--> 411\u001b[1;33m             \u001b[0mmgr\u001b[0m \u001b[1;33m=\u001b[0m \u001b[0minit_dict\u001b[0m\u001b[1;33m(\u001b[0m\u001b[0mdata\u001b[0m\u001b[1;33m,\u001b[0m \u001b[0mindex\u001b[0m\u001b[1;33m,\u001b[0m \u001b[0mcolumns\u001b[0m\u001b[1;33m,\u001b[0m \u001b[0mdtype\u001b[0m\u001b[1;33m=\u001b[0m\u001b[0mdtype\u001b[0m\u001b[1;33m)\u001b[0m\u001b[1;33m\u001b[0m\u001b[1;33m\u001b[0m\u001b[0m\n\u001b[0m\u001b[0;32m    412\u001b[0m         \u001b[1;32melif\u001b[0m \u001b[0misinstance\u001b[0m\u001b[1;33m(\u001b[0m\u001b[0mdata\u001b[0m\u001b[1;33m,\u001b[0m \u001b[0mma\u001b[0m\u001b[1;33m.\u001b[0m\u001b[0mMaskedArray\u001b[0m\u001b[1;33m)\u001b[0m\u001b[1;33m:\u001b[0m\u001b[1;33m\u001b[0m\u001b[1;33m\u001b[0m\u001b[0m\n\u001b[0;32m    413\u001b[0m             \u001b[1;32mimport\u001b[0m \u001b[0mnumpy\u001b[0m\u001b[1;33m.\u001b[0m\u001b[0mma\u001b[0m\u001b[1;33m.\u001b[0m\u001b[0mmrecords\u001b[0m \u001b[1;32mas\u001b[0m \u001b[0mmrecords\u001b[0m\u001b[1;33m\u001b[0m\u001b[1;33m\u001b[0m\u001b[0m\n",
      "\u001b[1;32m~\\Anaconda3\\lib\\site-packages\\pandas\\core\\internals\\construction.py\u001b[0m in \u001b[0;36minit_dict\u001b[1;34m(data, index, columns, dtype)\u001b[0m\n\u001b[0;32m    255\u001b[0m             \u001b[0marr\u001b[0m \u001b[1;32mif\u001b[0m \u001b[1;32mnot\u001b[0m \u001b[0mis_datetime64tz_dtype\u001b[0m\u001b[1;33m(\u001b[0m\u001b[0marr\u001b[0m\u001b[1;33m)\u001b[0m \u001b[1;32melse\u001b[0m \u001b[0marr\u001b[0m\u001b[1;33m.\u001b[0m\u001b[0mcopy\u001b[0m\u001b[1;33m(\u001b[0m\u001b[1;33m)\u001b[0m \u001b[1;32mfor\u001b[0m \u001b[0marr\u001b[0m \u001b[1;32min\u001b[0m \u001b[0marrays\u001b[0m\u001b[1;33m\u001b[0m\u001b[1;33m\u001b[0m\u001b[0m\n\u001b[0;32m    256\u001b[0m         ]\n\u001b[1;32m--> 257\u001b[1;33m     \u001b[1;32mreturn\u001b[0m \u001b[0marrays_to_mgr\u001b[0m\u001b[1;33m(\u001b[0m\u001b[0marrays\u001b[0m\u001b[1;33m,\u001b[0m \u001b[0mdata_names\u001b[0m\u001b[1;33m,\u001b[0m \u001b[0mindex\u001b[0m\u001b[1;33m,\u001b[0m \u001b[0mcolumns\u001b[0m\u001b[1;33m,\u001b[0m \u001b[0mdtype\u001b[0m\u001b[1;33m=\u001b[0m\u001b[0mdtype\u001b[0m\u001b[1;33m)\u001b[0m\u001b[1;33m\u001b[0m\u001b[1;33m\u001b[0m\u001b[0m\n\u001b[0m\u001b[0;32m    258\u001b[0m \u001b[1;33m\u001b[0m\u001b[0m\n\u001b[0;32m    259\u001b[0m \u001b[1;33m\u001b[0m\u001b[0m\n",
      "\u001b[1;32m~\\Anaconda3\\lib\\site-packages\\pandas\\core\\internals\\construction.py\u001b[0m in \u001b[0;36marrays_to_mgr\u001b[1;34m(arrays, arr_names, index, columns, dtype)\u001b[0m\n\u001b[0;32m     75\u001b[0m     \u001b[1;31m# figure out the index, if necessary\u001b[0m\u001b[1;33m\u001b[0m\u001b[1;33m\u001b[0m\u001b[1;33m\u001b[0m\u001b[0m\n\u001b[0;32m     76\u001b[0m     \u001b[1;32mif\u001b[0m \u001b[0mindex\u001b[0m \u001b[1;32mis\u001b[0m \u001b[1;32mNone\u001b[0m\u001b[1;33m:\u001b[0m\u001b[1;33m\u001b[0m\u001b[1;33m\u001b[0m\u001b[0m\n\u001b[1;32m---> 77\u001b[1;33m         \u001b[0mindex\u001b[0m \u001b[1;33m=\u001b[0m \u001b[0mextract_index\u001b[0m\u001b[1;33m(\u001b[0m\u001b[0marrays\u001b[0m\u001b[1;33m)\u001b[0m\u001b[1;33m\u001b[0m\u001b[1;33m\u001b[0m\u001b[0m\n\u001b[0m\u001b[0;32m     78\u001b[0m     \u001b[1;32melse\u001b[0m\u001b[1;33m:\u001b[0m\u001b[1;33m\u001b[0m\u001b[1;33m\u001b[0m\u001b[0m\n\u001b[0;32m     79\u001b[0m         \u001b[0mindex\u001b[0m \u001b[1;33m=\u001b[0m \u001b[0mensure_index\u001b[0m\u001b[1;33m(\u001b[0m\u001b[0mindex\u001b[0m\u001b[1;33m)\u001b[0m\u001b[1;33m\u001b[0m\u001b[1;33m\u001b[0m\u001b[0m\n",
      "\u001b[1;32m~\\Anaconda3\\lib\\site-packages\\pandas\\core\\internals\\construction.py\u001b[0m in \u001b[0;36mextract_index\u001b[1;34m(data)\u001b[0m\n\u001b[0;32m    356\u001b[0m \u001b[1;33m\u001b[0m\u001b[0m\n\u001b[0;32m    357\u001b[0m         \u001b[1;32mif\u001b[0m \u001b[1;32mnot\u001b[0m \u001b[0mindexes\u001b[0m \u001b[1;32mand\u001b[0m \u001b[1;32mnot\u001b[0m \u001b[0mraw_lengths\u001b[0m\u001b[1;33m:\u001b[0m\u001b[1;33m\u001b[0m\u001b[1;33m\u001b[0m\u001b[0m\n\u001b[1;32m--> 358\u001b[1;33m             \u001b[1;32mraise\u001b[0m \u001b[0mValueError\u001b[0m\u001b[1;33m(\u001b[0m\u001b[1;34m\"If using all scalar values, you must pass an index\"\u001b[0m\u001b[1;33m)\u001b[0m\u001b[1;33m\u001b[0m\u001b[1;33m\u001b[0m\u001b[0m\n\u001b[0m\u001b[0;32m    359\u001b[0m \u001b[1;33m\u001b[0m\u001b[0m\n\u001b[0;32m    360\u001b[0m         \u001b[1;32mif\u001b[0m \u001b[0mhave_series\u001b[0m\u001b[1;33m:\u001b[0m\u001b[1;33m\u001b[0m\u001b[1;33m\u001b[0m\u001b[0m\n",
      "\u001b[1;31mValueError\u001b[0m: If using all scalar values, you must pass an index"
     ]
    }
   ],
   "source": [
    "d = {'Monday Subscribers': a, 'Others': b}\n",
    "intersect = pd.DataFrame(data=d)"
   ]
  },
  {
   "cell_type": "code",
   "execution_count": 47,
   "metadata": {},
   "outputs": [
    {
     "ename": "SyntaxError",
     "evalue": "invalid syntax (<ipython-input-47-97cc8d72e412>, line 1)",
     "output_type": "error",
     "traceback": [
      "\u001b[1;36m  File \u001b[1;32m\"<ipython-input-47-97cc8d72e412>\"\u001b[1;36m, line \u001b[1;32m1\u001b[0m\n\u001b[1;33m    Percentage=pd.DataFrame{'Monday Subscribers': len(df[LEID_x])*100/len(deep_user.EUID), 'Others': (len(deep_user.EUID)-len(df[LEID_x]))*100/len(deep_user.EUID)}\u001b[0m\n\u001b[1;37m                           ^\u001b[0m\n\u001b[1;31mSyntaxError\u001b[0m\u001b[1;31m:\u001b[0m invalid syntax\n"
     ]
    }
   ],
   "source": [
    "Percentage=pd.DataFrame{'Monday Subscribers': len(df[LEID_x])*100/len(deep_user.EUID), 'Others': (len(deep_user.EUID)-len(df[LEID_x]))*100/len(deep_user.EUID)}"
   ]
  },
  {
   "cell_type": "code",
   "execution_count": null,
   "metadata": {},
   "outputs": [],
   "source": []
  }
 ],
 "metadata": {
  "kernelspec": {
   "display_name": "Python 3",
   "language": "python",
   "name": "python3"
  },
  "language_info": {
   "codemirror_mode": {
    "name": "ipython",
    "version": 3
   },
   "file_extension": ".py",
   "mimetype": "text/x-python",
   "name": "python",
   "nbconvert_exporter": "python",
   "pygments_lexer": "ipython3",
   "version": "3.7.5"
  }
 },
 "nbformat": 4,
 "nbformat_minor": 2
}
